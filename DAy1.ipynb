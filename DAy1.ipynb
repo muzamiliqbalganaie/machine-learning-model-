{
  "nbformat": 4,
  "nbformat_minor": 0,
  "metadata": {
    "colab": {
      "provenance": [],
      "authorship_tag": "ABX9TyP5TU1QKvTeXNymbCH3GpTw",
      "include_colab_link": true
    },
    "kernelspec": {
      "name": "python3",
      "display_name": "Python 3"
    },
    "language_info": {
      "name": "python"
    }
  },
  "cells": [
    {
      "cell_type": "markdown",
      "metadata": {
        "id": "view-in-github",
        "colab_type": "text"
      },
      "source": [
        "<a href=\"https://colab.research.google.com/github/muzamiliqbalganaie/machine-learning-model-/blob/main/DAy1.ipynb\" target=\"_parent\"><img src=\"https://colab.research.google.com/assets/colab-badge.svg\" alt=\"Open In Colab\"/></a>"
      ]
    },
    {
      "cell_type": "code",
      "execution_count": null,
      "metadata": {
        "colab": {
          "base_uri": "https://localhost:8080/"
        },
        "id": "LFB7-iNMPQqc",
        "outputId": "4270d05a-1582-4123-bc08-01c85caf5482"
      },
      "outputs": [
        {
          "output_type": "stream",
          "name": "stdout",
          "text": [
            "Enter the first number: 1\n",
            "Enter the secound number: 2\n",
            "The sum of 1.0 and 2.0 is: 3.0\n"
          ]
        }
      ],
      "source": [
        "# Get input from the user\n",
        "num1 = float(input(\"Enter the first number: \"))\n",
        "num2 = float(input(\"Enter the secound number: \"))\n",
        "\n",
        "#perform the addition\n",
        "sum_result = num1 + num2\n",
        "\n",
        "#Display the result\n",
        "print(\"The sum of {} and {} is: {}\".format(num1,num2, sum_result))"
      ]
    },
    {
      "cell_type": "markdown",
      "source": [
        "#Numpy-> Maths in Python\n",
        "#Pandas-> (panel[multidimensional structures datas] datas)Read edit the data\n",
        "#Matplotlib-> viz of the data\n",
        "#Seaborn-> Top of matplotlib ,all graphics things\n",
        "#sklearn-> used for running Machine learning algorithms\n",
        "\n",
        "#3rd party lib/packages/modules\n",
        "1. Data Collection\n",
        "2. Data Cleaning and Pre processing\n",
        "3. Expploration Data analysis(EDA)\n",
        "4. Feature Engineering\n",
        "5. Model Bulding and Training\n",
        "6. Evaluation and validation\n",
        "7. Iterative imporvement\n",
        "\n",
        "\n",
        "jupiter is local app using local ram to run."
      ],
      "metadata": {
        "id": "CVE-NhQWQDkB"
      }
    },
    {
      "cell_type": "code",
      "source": [
        "! pip install numpy\n"
      ],
      "metadata": {
        "colab": {
          "base_uri": "https://localhost:8080/"
        },
        "id": "9c3tZW9qRJIV",
        "outputId": "8abb3ed2-060c-41ea-e62d-c2e58bd5966c"
      },
      "execution_count": null,
      "outputs": [
        {
          "output_type": "stream",
          "name": "stdout",
          "text": [
            "Requirement already satisfied: numpy in /usr/local/lib/python3.10/dist-packages (1.23.5)\n"
          ]
        }
      ]
    },
    {
      "cell_type": "code",
      "source": [
        "import numpy as np"
      ],
      "metadata": {
        "id": "lzw24fv0RTLF"
      },
      "execution_count": null,
      "outputs": []
    },
    {
      "cell_type": "code",
      "source": [
        "alist = [1,2,3,4,5]\n",
        "\n",
        "alist*2"
      ],
      "metadata": {
        "colab": {
          "base_uri": "https://localhost:8080/"
        },
        "id": "iVVnyOnpRbHM",
        "outputId": "04af6cf1-ea3d-4dc2-cb43-3873e32abfd7"
      },
      "execution_count": null,
      "outputs": [
        {
          "output_type": "execute_result",
          "data": {
            "text/plain": [
              "[1, 2, 3, 4, 5, 1, 2, 3, 4, 5]"
            ]
          },
          "metadata": {},
          "execution_count": 5
        }
      ]
    },
    {
      "cell_type": "code",
      "source": [
        "#base python\n",
        "\n",
        "blist=[]\n",
        "for a in alist:\n",
        "  blist.append(a*2)\n",
        "blist"
      ],
      "metadata": {
        "colab": {
          "base_uri": "https://localhost:8080/"
        },
        "id": "83tGxx76Rj4c",
        "outputId": "3ee3e566-24ad-4f2c-b6bd-d3bedb3278e3"
      },
      "execution_count": null,
      "outputs": [
        {
          "output_type": "execute_result",
          "data": {
            "text/plain": [
              "[2, 4, 6, 8, 10]"
            ]
          },
          "metadata": {},
          "execution_count": 10
        }
      ]
    },
    {
      "cell_type": "code",
      "source": [
        "a_arr = np.array(alist)"
      ],
      "metadata": {
        "id": "oKE6TErjSL8v"
      },
      "execution_count": null,
      "outputs": []
    },
    {
      "cell_type": "code",
      "source": [
        "a_arr*2"
      ],
      "metadata": {
        "colab": {
          "base_uri": "https://localhost:8080/"
        },
        "id": "9PyjzVv7Sjj3",
        "outputId": "e17a4053-9c88-4067-c33c-5765524b245c"
      },
      "execution_count": null,
      "outputs": [
        {
          "output_type": "execute_result",
          "data": {
            "text/plain": [
              "array([ 2,  4,  6,  8, 10])"
            ]
          },
          "metadata": {},
          "execution_count": 13
        }
      ]
    },
    {
      "cell_type": "code",
      "source": [
        "import random"
      ],
      "metadata": {
        "id": "33XhD_f4Vxeu"
      },
      "execution_count": null,
      "outputs": []
    },
    {
      "cell_type": "code",
      "source": [
        "np.random.randint(low=1000000, high=99999999, size=(2))"
      ],
      "metadata": {
        "colab": {
          "base_uri": "https://localhost:8080/"
        },
        "id": "dKRnrq9ZWJWW",
        "outputId": "45c2d26a-7886-43ed-b5f1-1dfe0ae08039"
      },
      "execution_count": null,
      "outputs": [
        {
          "output_type": "execute_result",
          "data": {
            "text/plain": [
              "array([79580574, 65289137])"
            ]
          },
          "metadata": {},
          "execution_count": 15
        }
      ]
    },
    {
      "cell_type": "code",
      "source": [
        "d_arr = np.random.randint(low=100, high=999,size=(6,6))"
      ],
      "metadata": {
        "id": "YZyFOVtwWbkJ"
      },
      "execution_count": null,
      "outputs": []
    },
    {
      "cell_type": "code",
      "source": [
        "d_arr\n"
      ],
      "metadata": {
        "colab": {
          "base_uri": "https://localhost:8080/"
        },
        "id": "FTnqCIeFWv0w",
        "outputId": "a5bff84b-c4dc-4df7-d337-7e4df648cb66"
      },
      "execution_count": null,
      "outputs": [
        {
          "output_type": "execute_result",
          "data": {
            "text/plain": [
              "array([[360, 254, 556, 396, 323, 594],\n",
              "       [760, 699, 955, 743, 614, 862],\n",
              "       [635, 643, 174, 304, 145, 103],\n",
              "       [848, 885, 689, 858, 171, 309],\n",
              "       [444, 765, 587, 727, 532, 687],\n",
              "       [524, 745, 245, 360, 283, 365]])"
            ]
          },
          "metadata": {},
          "execution_count": 19
        }
      ]
    },
    {
      "cell_type": "code",
      "source": [
        "d_arr.max()"
      ],
      "metadata": {
        "colab": {
          "base_uri": "https://localhost:8080/"
        },
        "id": "03H-MMA8W4Qz",
        "outputId": "d968916f-2f81-47ed-bc36-37ed12a159db"
      },
      "execution_count": null,
      "outputs": [
        {
          "output_type": "execute_result",
          "data": {
            "text/plain": [
              "955"
            ]
          },
          "metadata": {},
          "execution_count": 21
        }
      ]
    },
    {
      "cell_type": "code",
      "source": [
        "d_arr.min()"
      ],
      "metadata": {
        "colab": {
          "base_uri": "https://localhost:8080/"
        },
        "id": "ND9EytLaW_0h",
        "outputId": "a6915613-a640-4892-c258-b01da549637c"
      },
      "execution_count": null,
      "outputs": [
        {
          "output_type": "execute_result",
          "data": {
            "text/plain": [
              "103"
            ]
          },
          "metadata": {},
          "execution_count": 22
        }
      ]
    },
    {
      "cell_type": "code",
      "source": [
        "d_arr.std()\n",
        "#standard devation"
      ],
      "metadata": {
        "colab": {
          "base_uri": "https://localhost:8080/"
        },
        "id": "-8IBPuZAXC50",
        "outputId": "d20e3e05-d3e0-47bf-ce29-492360d7422e"
      },
      "execution_count": null,
      "outputs": [
        {
          "output_type": "execute_result",
          "data": {
            "text/plain": [
              "237.9963948269328"
            ]
          },
          "metadata": {},
          "execution_count": 23
        }
      ]
    },
    {
      "cell_type": "code",
      "source": [
        "d_arr"
      ],
      "metadata": {
        "colab": {
          "base_uri": "https://localhost:8080/"
        },
        "id": "IES5bXi6XJKp",
        "outputId": "db1522fd-fe4a-44d6-c304-cdfdfaa17c0a"
      },
      "execution_count": null,
      "outputs": [
        {
          "output_type": "execute_result",
          "data": {
            "text/plain": [
              "array([[360, 254, 556, 396, 323, 594],\n",
              "       [760, 699, 955, 743, 614, 862],\n",
              "       [635, 643, 174, 304, 145, 103],\n",
              "       [848, 885, 689, 858, 171, 309],\n",
              "       [444, 765, 587, 727, 532, 687],\n",
              "       [524, 745, 245, 360, 283, 365]])"
            ]
          },
          "metadata": {},
          "execution_count": 24
        }
      ]
    },
    {
      "cell_type": "code",
      "source": [
        "d_arr[2:3,3:5]"
      ],
      "metadata": {
        "colab": {
          "base_uri": "https://localhost:8080/"
        },
        "id": "3260rxgUXNBl",
        "outputId": "08944024-0895-4e7e-db98-05747fd9967c"
      },
      "execution_count": null,
      "outputs": [
        {
          "output_type": "execute_result",
          "data": {
            "text/plain": [
              "array([[304, 145]])"
            ]
          },
          "metadata": {},
          "execution_count": 25
        }
      ]
    },
    {
      "cell_type": "code",
      "source": [
        "d_arr[2,1]"
      ],
      "metadata": {
        "colab": {
          "base_uri": "https://localhost:8080/"
        },
        "id": "Jft5qyLyXp9W",
        "outputId": "a3dfc0b8-2c8d-41d1-b7c7-0a0e71ba0d69"
      },
      "execution_count": null,
      "outputs": [
        {
          "output_type": "execute_result",
          "data": {
            "text/plain": [
              "643"
            ]
          },
          "metadata": {},
          "execution_count": 26
        }
      ]
    },
    {
      "cell_type": "code",
      "source": [
        "d_arr[4:5,3:6]"
      ],
      "metadata": {
        "colab": {
          "base_uri": "https://localhost:8080/"
        },
        "id": "emIddNIkYK00",
        "outputId": "e6acc5d7-5761-4f44-ae82-3b2733619b8d"
      },
      "execution_count": null,
      "outputs": [
        {
          "output_type": "execute_result",
          "data": {
            "text/plain": [
              "array([[727, 532, 687]])"
            ]
          },
          "metadata": {},
          "execution_count": 30
        }
      ]
    },
    {
      "cell_type": "code",
      "source": [
        "# Slicing\n",
        "# Syntax => arr_name[row_start_num:row_end_num,col_start_num:col_end_num]"
      ],
      "metadata": {
        "id": "qWClGZSPYyTn"
      },
      "execution_count": null,
      "outputs": []
    }
  ]
}